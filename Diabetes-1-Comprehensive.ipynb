{
  "nbformat": 4,
  "nbformat_minor": 0,
  "metadata": {
    "colab": {
      "name": "Diabetes - 1 - Comprehensive",
      "provenance": [],
      "collapsed_sections": [
        "oVjxFePzLbUI",
        "pYPEpBeLLqBy",
        "30IVCDYfC6ps",
        "OEkrLwz3Ag1r",
        "NZsc-mP1BluS",
        "vk0JQYidL4jN",
        "-dSbEV1yLs5m"
      ],
      "toc_visible": true,
      "authorship_tag": "ABX9TyNvVaeMj4DXZfauQT1NVUyj",
      "include_colab_link": true
    },
    "kernelspec": {
      "name": "python3",
      "display_name": "Python 3"
    },
    "language_info": {
      "name": "python"
    }
  },
  "cells": [
    {
      "cell_type": "markdown",
      "metadata": {
        "id": "view-in-github",
        "colab_type": "text"
      },
      "source": [
        "<a href=\"https://colab.research.google.com/github/prashanth-acsq/Colab-Notebooks/blob/main/Diabetes-1-Comprehensive.ipynb\" target=\"_parent\"><img src=\"https://colab.research.google.com/assets/colab-badge.svg\" alt=\"Open In Colab\"/></a>"
      ]
    },
    {
      "cell_type": "markdown",
      "source": [
        "### **Setup**"
      ],
      "metadata": {
        "id": "ioaco5xFLTIR"
      }
    },
    {
      "cell_type": "code",
      "execution_count": 1,
      "metadata": {
        "id": "ARpstBJvKUw8",
        "colab": {
          "base_uri": "https://localhost:8080/"
        },
        "outputId": "aa01e43c-25d7-4c7d-b325-9c89eb60ff79"
      },
      "outputs": [
        {
          "output_type": "stream",
          "name": "stdout",
          "text": [
            "Mounted at /content/gdrive\n"
          ]
        }
      ],
      "source": [
        "from google.colab import drive\n",
        "drive.mount(\"/content/gdrive\")\n",
        "\n",
        "\n",
        "PATH = \"/content/gdrive/My Drive/Datasets/diabetes.csv\"\n",
        "\n",
        "\n",
        "def breaker(num: int=50, char: str=\"*\") -> None:\n",
        "    print(\"\\n\" + num*char + \"\\n\")"
      ]
    },
    {
      "cell_type": "markdown",
      "source": [
        "### **Library Imports**"
      ],
      "metadata": {
        "id": "FZS8sfrlLVtH"
      }
    },
    {
      "cell_type": "code",
      "source": [
        "import os\n",
        "import pickle\n",
        "import numpy as np\n",
        "import pandas as pd\n",
        "import random as r\n",
        "import seaborn as sns\n",
        "import matplotlib.pyplot as plt\n",
        "\n",
        "from time import time\n",
        "from sklearn.pipeline import Pipeline\n",
        "from sklearn.compose import ColumnTransformer\n",
        "from sklearn.preprocessing import StandardScaler\n",
        "from sklearn.model_selection import KFold, GridSearchCV\n",
        "\n",
        "from sklearn.neighbors import KNeighborsClassifier\n",
        "from sklearn.linear_model import LogisticRegression\n",
        "from sklearn.tree import DecisionTreeClassifier, ExtraTreeClassifier\n",
        "from sklearn.ensemble import AdaBoostClassifier, ExtraTreesClassifier, GradientBoostingClassifier, RandomForestClassifier \n",
        "from xgboost import XGBClassifier\n",
        "\n",
        "from sklearn.metrics import accuracy_score, precision_recall_fscore_support, roc_auc_score, classification_report"
      ],
      "metadata": {
        "id": "3OM-S9XXLahi"
      },
      "execution_count": 2,
      "outputs": []
    },
    {
      "cell_type": "markdown",
      "source": [
        "### **Env Setup**"
      ],
      "metadata": {
        "id": "alvoGTBwa37r"
      }
    },
    {
      "cell_type": "code",
      "source": [
        "SEED = 42\n",
        "N_SPLITS = 5\n",
        "sc_X = StandardScaler()\n",
        "\n",
        "if not os.path.exists(\"/content/logs\"): os.makedirs(\"/content/logs\")\n",
        "if not os.path.exists(\"/content/models\"): os.makedirs(\"/content/models\")\n",
        "\n",
        "LOG_FILE = \"/content/logs/training_logs.txt\"\n",
        "with open(LOG_FILE, \"w+\") as f: f.write(\"Training Logs\\n\\n\\n\")"
      ],
      "metadata": {
        "id": "1alA7Bp3zo-R"
      },
      "execution_count": 3,
      "outputs": []
    },
    {
      "cell_type": "markdown",
      "source": [
        "### **Helpers**"
      ],
      "metadata": {
        "id": "pe4bOPjubIYs"
      }
    },
    {
      "cell_type": "code",
      "source": [
        "def get_scores(y_true: np.ndarray, y_pred: np.ndarray) -> tuple:\n",
        "    accuracy = accuracy_score(y_pred, y_true)\n",
        "    try:\n",
        "        auc = roc_auc_score(y_pred, y_true)\n",
        "    except:\n",
        "        auc = 0\n",
        "    precision, recall, f_score, _ = precision_recall_fscore_support(y_pred, y_true)\n",
        "\n",
        "    return accuracy, auc, precision, recall, f_score\n",
        "\n",
        "\n",
        "def print_scores(accuracy: float, auc: float, precision: np.ndarray, recall: np.ndarray, f_score: np.ndarray) -> None:\n",
        "    print(f\"Accuracy  : {accuracy:.5f}\")\n",
        "    print(f\"ROC-AUC   : {auc:.5f}\")\n",
        "    print(f\"Precision : {precision}\")\n",
        "    print(f\"Recall    : {recall}\")\n",
        "    print(f\"F-Score   : {f_score}\")\n",
        "\n",
        "\n",
        "def show_feature_importance(feature_importance: np.ndarray, model_name: str) -> None:\n",
        "    sns.barplot(x=[x for x in range(len(feature_importance))], y=feature_importance)\n",
        "    plt.title(\"Feature Importance\")\n",
        "    plt.savefig(os.path.join(\"/content/logs\", f\"{model_name}_FI.jpg\"))\n",
        "    plt.show()\n",
        "\n",
        "\n",
        "def train(model, model_name: str, X: np.ndarray, y: np.ndarray, log_file: str, ) -> tuple:\n",
        "    accuracies, aucs, precisions, recalls, f_scores = [], [], [], [], []\n",
        "\n",
        "    with open(log_file, \"a\") as f:\n",
        "        if model_name == \"lgr\": f.write(\"LOGISTIC REGRESSION\\n\\n\")\n",
        "        if model_name == \"dtc\": f.write(\"DECISION TREE CLASSIFIER\\n\\n\")\n",
        "        if model_name == \"etc\": f.write(\"EXTRA TREE CLASSIFIER\\n\\n\")\n",
        "        if model_name == \"abc\": f.write(\"ADABOOST CLASSIFIER\\n\\n\")\n",
        "        if model_name == \"etcs\": f.write(\"EXTRA TREES CLASSIFIER\\n\\n\")\n",
        "        if model_name == \"gbc\": f.write(\"GRADIENT BOOSTING CLASSIFIER\\n\\n\")\n",
        "        if model_name == \"rfc\": f.write(\"RANDOM FOREST CLASSIFIER\\n\\n\")\n",
        "        if model_name == \"xgbc\": f.write(\"XGB CLASSIFIER\\n\\n\")\n",
        "\n",
        "    fold = 1\n",
        "    start_time = time()\n",
        "    for tr_idx, va_idx in KFold(n_splits=N_SPLITS, shuffle=True, random_state=SEED).split(X):\n",
        "\n",
        "        X_train, X_valid, y_train, y_valid = X[tr_idx], X[va_idx], y[tr_idx], y[va_idx]\n",
        "\n",
        "        X_train = sc_X.fit_transform(X_train)\n",
        "        X_valid = sc_X.transform(X_valid)\n",
        "\n",
        "        model.fit(X_train, y_train)\n",
        "        y_pred = model.predict(X_valid)\n",
        "\n",
        "        accuracy, auc, precision, recall, f_score = get_scores(y_valid, y_pred)\n",
        "        print_scores(accuracy, auc, precision, recall, f_score)\n",
        "\n",
        "        accuracies.append(accuracy)\n",
        "        aucs.append(auc)\n",
        "        precisions.append(precision[1])\n",
        "        recalls.append(recall[1])\n",
        "        f_scores.append(f_score[1])\n",
        "\n",
        "        with open(log_file, \"a\") as f:\n",
        "            f.write(f\"Fold {fold}\\n\")\n",
        "            f.write(f\"Accuracy  : {accuracy}\\n\")\n",
        "            f.write(f\"ROC AUC   : {auc}\\n\")\n",
        "            f.write(f\"Precision : {precision[1]}\\n\")\n",
        "            f.write(f\"Recall    : {recall[1]}\\n\")\n",
        "            f.write(f\"F_Score   : {f_score[1]}\\n\\n\")\n",
        "\n",
        "        with open(f\"/content/models/{model_name}_fold_{fold}.pkl\", \"wb\") as fp: pickle.dump(model, fp)\n",
        "\n",
        "        breaker()\n",
        "        fold += 1\n",
        "    \n",
        "    with open(log_file, \"a\") as f: f.write(\"\\n\")\n",
        "\n",
        "    print(f\"Time Taken for {N_SPLITS}-Fold CV : {(time()-start_time)/60:.2f} minutes\")\n",
        "    breaker()\n",
        "\n",
        "    return model\n",
        "\n",
        "\n",
        "def get_feature_importance(importance: np.ndarray, model_name: str):\n",
        "    for i in range(len(importance)):\n",
        "        print(f\"Feature {i} Importance : {importance[i]:.5f}\")\n",
        "    breaker()\n",
        "\n",
        "    show_feature_importance(importance, model_name)\n",
        "    breaker()"
      ],
      "metadata": {
        "id": "bLm7umA4bKrn"
      },
      "execution_count": 4,
      "outputs": []
    },
    {
      "cell_type": "markdown",
      "source": [
        "### **Load Data**"
      ],
      "metadata": {
        "id": "V8c0GWpobAXV"
      }
    },
    {
      "cell_type": "code",
      "source": [
        "df = pd.read_csv(PATH)\n",
        "df = df.drop(labels=[\"PatientID\"], axis=1)\n",
        "df.head(5)\n",
        "\n",
        "X, y = df.iloc[:, :-1].copy().values, df.iloc[:, -1].copy().values\n",
        "features = [i for i in range(df.shape[1] - 1)]"
      ],
      "metadata": {
        "id": "Ta6GDma0avvS"
      },
      "execution_count": 5,
      "outputs": []
    },
    {
      "cell_type": "markdown",
      "source": [
        "### **Logistic Regression**"
      ],
      "metadata": {
        "id": "oVjxFePzLbUI"
      }
    },
    {
      "cell_type": "code",
      "source": [
        "breaker()\n",
        "model = train(LogisticRegression(random_state=SEED), \"lgr\", X, y, LOG_FILE)\n",
        "get_feature_importance(model.coef_[0], \"lgr\")"
      ],
      "metadata": {
        "colab": {
          "base_uri": "https://localhost:8080/",
          "height": 1000
        },
        "id": "Uvz-_-Bp2cFO",
        "outputId": "bd739808-9c28-44cb-bd07-2a6397dc6847"
      },
      "execution_count": 6,
      "outputs": [
        {
          "output_type": "stream",
          "name": "stdout",
          "text": [
            "\n",
            "**************************************************\n",
            "\n",
            "Accuracy  : 0.78900\n",
            "ROC-AUC   : 0.77016\n",
            "Precision : [0.89870904 0.56490872]\n",
            "Recall    : [0.80839661 0.73193167]\n",
            "F-Score   : [0.85116388 0.63766457]\n",
            "\n",
            "**************************************************\n",
            "\n",
            "Accuracy  : 0.78267\n",
            "ROC-AUC   : 0.76536\n",
            "Precision : [0.87742594 0.60460653]\n",
            "Recall    : [0.80657277 0.72413793]\n",
            "F-Score   : [0.84050881 0.65899582]\n",
            "\n",
            "**************************************************\n",
            "\n",
            "Accuracy  : 0.78167\n",
            "ROC-AUC   : 0.75294\n",
            "Precision : [0.87198424 0.59236326]\n",
            "Recall    : [0.8176362 0.6882494]\n",
            "F-Score   : [0.84393614 0.63671658]\n",
            "\n",
            "**************************************************\n",
            "\n",
            "Accuracy  : 0.78900\n",
            "ROC-AUC   : 0.76769\n",
            "Precision : [0.87913741 0.61033797]\n",
            "Recall    : [0.81724942 0.71812865]\n",
            "F-Score   : [0.84706451 0.65986029]\n",
            "\n",
            "**************************************************\n",
            "\n",
            "Accuracy  : 0.79100\n",
            "ROC-AUC   : 0.76893\n",
            "Precision : [0.88067898 0.6108325 ]\n",
            "Recall    : [0.8197026  0.71816038]\n",
            "F-Score   : [0.84909747 0.6601626 ]\n",
            "\n",
            "**************************************************\n",
            "\n",
            "Time Taken for 5-Fold CV : 0.00 minutes\n",
            "\n",
            "**************************************************\n",
            "\n",
            "Feature 0 Importance : 0.92145\n",
            "Feature 1 Importance : 0.27778\n",
            "Feature 2 Importance : 0.21475\n",
            "Feature 3 Importance : 0.35262\n",
            "Feature 4 Importance : 0.49691\n",
            "Feature 5 Importance : 0.48637\n",
            "Feature 6 Importance : 0.38599\n",
            "Feature 7 Importance : 0.71213\n",
            "\n",
            "**************************************************\n",
            "\n"
          ]
        },
        {
          "output_type": "display_data",
          "data": {
            "text/plain": [
              "<Figure size 432x288 with 1 Axes>"
            ],
            "image/png": "[encoded data removed]"
          },
          "metadata": {
            "needs_background": "light"
          }
        },
        {
          "output_type": "stream",
          "name": "stdout",
          "text": [
            "\n",
            "**************************************************\n",
            "\n"
          ]
        }
      ]
    },
    {
      "cell_type": "markdown",
      "source": [
        "### **Decision Tree Classifier**"
      ],
      "metadata": {
        "id": "pYPEpBeLLqBy"
      }
    },
    {
      "cell_type": "code",
      "source": [
        "breaker()\n",
        "model = train(DecisionTreeClassifier(random_state=SEED), \"dtc\", X, y, LOG_FILE)\n",
        "get_feature_importance(model.feature_importances_, \"dtc\")"
      ],
      "metadata": {
        "id": "MAzN4mGG6iBg",
        "colab": {
          "base_uri": "https://localhost:8080/",
          "height": 1000
        },
        "outputId": "725809d5-c1cc-44ac-c80a-f7ea89ea225e"
      },
      "execution_count": 7,
      "outputs": [
        {
          "output_type": "stream",
          "name": "stdout",
          "text": [
            "\n",
            "**************************************************\n",
            "\n",
            "Accuracy  : 0.89300\n",
            "ROC-AUC   : 0.88122\n",
            "Precision : [0.9285005  0.82048682]\n",
            "Recall    : [0.913532   0.84889822]\n",
            "F-Score   : [0.92095543 0.83445075]\n",
            "\n",
            "**************************************************\n",
            "\n",
            "Accuracy  : 0.89400\n",
            "ROC-AUC   : 0.88385\n",
            "Precision : [0.92185904 0.84165067]\n",
            "Recall    : [0.91624365 0.85145631]\n",
            "F-Score   : [0.91904277 0.8465251 ]\n",
            "\n",
            "**************************************************\n",
            "\n",
            "Accuracy  : 0.90233\n",
            "ROC-AUC   : 0.88650\n",
            "Precision : [0.92122107 0.8627451 ]\n",
            "Recall    : [0.93363273 0.83935743]\n",
            "F-Score   : [0.92738538 0.85089059]\n",
            "\n",
            "**************************************************\n",
            "\n",
            "Accuracy  : 0.90467\n",
            "ROC-AUC   : 0.89200\n",
            "Precision : [0.92427282 0.86580517]\n",
            "Recall    : [0.93174924 0.85225049]\n",
            "F-Score   : [0.92799597 0.85897436]\n",
            "\n",
            "**************************************************\n",
            "\n",
            "Accuracy  : 0.91500\n",
            "ROC-AUC   : 0.90463\n",
            "Precision : [0.93759361 0.86960883]\n",
            "Recall    : [0.93525896 0.87399194]\n",
            "F-Score   : [0.93642483 0.87179487]\n",
            "\n",
            "**************************************************\n",
            "\n",
            "Time Taken for 5-Fold CV : 0.01 minutes\n",
            "\n",
            "**************************************************\n",
            "\n",
            "Feature 0 Importance : 0.39430\n",
            "Feature 1 Importance : 0.06794\n",
            "Feature 2 Importance : 0.03363\n",
            "Feature 3 Importance : 0.03573\n",
            "Feature 4 Importance : 0.10612\n",
            "Feature 5 Importance : 0.19999\n",
            "Feature 6 Importance : 0.04063\n",
            "Feature 7 Importance : 0.12165\n",
            "\n",
            "**************************************************\n",
            "\n"
          ]
        },
        {
          "output_type": "display_data",
          "data": {
            "text/plain": [
              "<Figure size 432x288 with 1 Axes>"
            ],
            "image/png": "[encoded data removed]"
          },
          "metadata": {
            "needs_background": "light"
          }
        },
        {
          "output_type": "stream",
          "name": "stdout",
          "text": [
            "\n",
            "**************************************************\n",
            "\n"
          ]
        }
      ]
    },
    {
      "cell_type": "markdown",
      "source": [
        "### **Extra Tree Classifier**"
      ],
      "metadata": {
        "id": "30IVCDYfC6ps"
      }
    },
    {
      "cell_type": "code",
      "source": [
        "breaker()\n",
        "model = train(ExtraTreeClassifier(random_state=SEED), \"etc\", X, y, LOG_FILE)\n",
        "get_feature_importance(model.feature_importances_, \"etc\")"
      ],
      "metadata": {
        "id": "0ZdBSgf8C9Xw",
        "colab": {
          "base_uri": "https://localhost:8080/",
          "height": 1000
        },
        "outputId": "a392dd1e-669b-470a-cfd5-6450098db40a"
      },
      "execution_count": 8,
      "outputs": [
        {
          "output_type": "stream",
          "name": "stdout",
          "text": [
            "\n",
            "**************************************************\n",
            "\n",
            "Accuracy  : 0.83067\n",
            "ROC-AUC   : 0.80971\n",
            "Precision : [0.88430983 0.72109533]\n",
            "Recall    : [0.86624514 0.75317797]\n",
            "F-Score   : [0.87518428 0.73678756]\n",
            "\n",
            "**************************************************\n",
            "\n",
            "Accuracy  : 0.84833\n",
            "ROC-AUC   : 0.83263\n",
            "Precision : [0.88304392 0.7831094 ]\n",
            "Recall    : [0.88439898 0.78086124]\n",
            "F-Score   : [0.88372093 0.78198371]\n",
            "\n",
            "**************************************************\n",
            "\n",
            "Accuracy  : 0.84500\n",
            "ROC-AUC   : 0.82181\n",
            "Precision : [0.87838503 0.7750258 ]\n",
            "Recall    : [0.89110889 0.75250501]\n",
            "F-Score   : [0.88470121 0.76359939]\n",
            "\n",
            "**************************************************\n",
            "\n",
            "Accuracy  : 0.85200\n",
            "ROC-AUC   : 0.83490\n",
            "Precision : [0.89368104 0.7693837 ]\n",
            "Recall    : [0.88480636 0.78498986]\n",
            "F-Score   : [0.88922156 0.77710843]\n",
            "\n",
            "**************************************************\n",
            "\n",
            "Accuracy  : 0.85033\n",
            "ROC-AUC   : 0.83109\n",
            "Precision : [0.88617074 0.77833501]\n",
            "Recall    : [0.88927856 0.77290837]\n",
            "F-Score   : [0.88772193 0.77561219]\n",
            "\n",
            "**************************************************\n",
            "\n",
            "Time Taken for 5-Fold CV : 0.00 minutes\n",
            "\n",
            "**************************************************\n",
            "\n",
            "Feature 0 Importance : 0.20144\n",
            "Feature 1 Importance : 0.07646\n",
            "Feature 2 Importance : 0.05560\n",
            "Feature 3 Importance : 0.07603\n",
            "Feature 4 Importance : 0.11320\n",
            "Feature 5 Importance : 0.15679\n",
            "Feature 6 Importance : 0.09869\n",
            "Feature 7 Importance : 0.22179\n",
            "\n",
            "**************************************************\n",
            "\n"
          ]
        },
        {
          "output_type": "display_data",
          "data": {
            "text/plain": [
              "<Figure size 432x288 with 1 Axes>"
            ],
            "image/png": "[encoded data removed]"
          },
          "metadata": {
            "needs_background": "light"
          }
        },
        {
          "output_type": "stream",
          "name": "stdout",
          "text": [
            "\n",
            "**************************************************\n",
            "\n"
          ]
        }
      ]
    },
    {
      "cell_type": "markdown",
      "source": [
        "### **AdaBoost Classifier**"
      ],
      "metadata": {
        "id": "OEkrLwz3Ag1r"
      }
    },
    {
      "cell_type": "code",
      "source": [
        "breaker()\n",
        "model = train(AdaBoostClassifier(random_state=SEED), \"abc\", X, y, LOG_FILE)\n",
        "get_feature_importance(model.feature_importances_, \"abc\")"
      ],
      "metadata": {
        "id": "jJREG-nBBQrm",
        "colab": {
          "base_uri": "https://localhost:8080/",
          "height": 1000
        },
        "outputId": "1ebda8f2-3c1d-4c22-ddd2-6dece7dc9924"
      },
      "execution_count": 9,
      "outputs": [
        {
          "output_type": "stream",
          "name": "stdout",
          "text": [
            "\n",
            "**************************************************\n",
            "\n",
            "Accuracy  : 0.94167\n",
            "ROC-AUC   : 0.93581\n",
            "Precision : [0.9612711  0.90162272]\n",
            "Recall    : [0.95228726 0.91933816]\n",
            "F-Score   : [0.95675809 0.91039427]\n",
            "\n",
            "**************************************************\n",
            "\n",
            "Accuracy  : 0.95100\n",
            "ROC-AUC   : 0.94587\n",
            "Precision : [0.96220633 0.92994242]\n",
            "Recall    : [0.96269801 0.92905081]\n",
            "F-Score   : [0.96245211 0.9294964 ]\n",
            "\n",
            "**************************************************\n",
            "\n",
            "Accuracy  : 0.94900\n",
            "ROC-AUC   : 0.94001\n",
            "Precision : [0.9581487  0.92982456]\n",
            "Recall    : [0.96623635 0.9137931 ]\n",
            "F-Score   : [0.96217553 0.92173913]\n",
            "\n",
            "**************************************************\n",
            "\n",
            "Accuracy  : 0.95067\n",
            "ROC-AUC   : 0.94525\n",
            "Precision : [0.96439318 0.92345924]\n",
            "Recall    : [0.9615 0.929 ]\n",
            "F-Score   : [0.96294442 0.92622134]\n",
            "\n",
            "**************************************************\n",
            "\n",
            "Accuracy  : 0.95333\n",
            "ROC-AUC   : 0.95137\n",
            "Precision : [0.97403894 0.91173521]\n",
            "Recall    : [0.95684159 0.9458897 ]\n",
            "F-Score   : [0.96536368 0.92849847]\n",
            "\n",
            "**************************************************\n",
            "\n",
            "Time Taken for 5-Fold CV : 0.05 minutes\n",
            "\n",
            "**************************************************\n",
            "\n",
            "Feature 0 Importance : 0.14000\n",
            "Feature 1 Importance : 0.14000\n",
            "Feature 2 Importance : 0.08000\n",
            "Feature 3 Importance : 0.14000\n",
            "Feature 4 Importance : 0.06000\n",
            "Feature 5 Importance : 0.14000\n",
            "Feature 6 Importance : 0.10000\n",
            "Feature 7 Importance : 0.20000\n",
            "\n",
            "**************************************************\n",
            "\n"
          ]
        },
        {
          "output_type": "display_data",
          "data": {
            "text/plain": [
              "<Figure size 432x288 with 1 Axes>"
            ],
            "image/png": "[encoded data removed]"
          },
          "metadata": {
            "needs_background": "light"
          }
        },
        {
          "output_type": "stream",
          "name": "stdout",
          "text": [
            "\n",
            "**************************************************\n",
            "\n"
          ]
        }
      ]
    },
    {
      "cell_type": "markdown",
      "source": [
        "### **ExtraTreesClassifer**"
      ],
      "metadata": {
        "id": "NZsc-mP1BluS"
      }
    },
    {
      "cell_type": "code",
      "source": [
        "breaker()\n",
        "model = train(ExtraTreesClassifier(random_state=SEED), \"etcs\", X, y, LOG_FILE)\n",
        "get_feature_importance(model.feature_importances_, \"etcs\")"
      ],
      "metadata": {
        "id": "OTK49l2fCQeu",
        "colab": {
          "base_uri": "https://localhost:8080/",
          "height": 1000
        },
        "outputId": "8cbc92d1-1f9c-4de4-c808-8bebdcb44e21"
      },
      "execution_count": 10,
      "outputs": [
        {
          "output_type": "stream",
          "name": "stdout",
          "text": [
            "\n",
            "**************************************************\n",
            "\n",
            "Accuracy  : 0.93500\n",
            "ROC-AUC   : 0.93010\n",
            "Precision : [0.96077458 0.88235294]\n",
            "Recall    : [0.94344222 0.91675448]\n",
            "F-Score   : [0.95202952 0.89922481]\n",
            "\n",
            "**************************************************\n",
            "\n",
            "Accuracy  : 0.94100\n",
            "ROC-AUC   : 0.93624\n",
            "Precision : [0.95863126 0.90786948]\n",
            "Recall    : [0.95134313 0.9211295 ]\n",
            "F-Score   : [0.95497329 0.91445143]\n",
            "\n",
            "**************************************************\n",
            "\n",
            "Accuracy  : 0.93600\n",
            "ROC-AUC   : 0.92683\n",
            "Precision : [0.95273264 0.90092879]\n",
            "Recall    : [0.95273264 0.90092879]\n",
            "F-Score   : [0.95273264 0.90092879]\n",
            "\n",
            "**************************************************\n",
            "\n",
            "Accuracy  : 0.93767\n",
            "ROC-AUC   : 0.93267\n",
            "Precision : [0.95987964 0.89363817]\n",
            "Recall    : [0.94705591 0.91828396]\n",
            "F-Score   : [0.95342466 0.90579345]\n",
            "\n",
            "**************************************************\n",
            "\n",
            "Accuracy  : 0.94533\n",
            "ROC-AUC   : 0.94264\n",
            "Precision : [0.96904643 0.89769308]\n",
            "Recall    : [0.95007342 0.93521421]\n",
            "F-Score   : [0.95946614 0.9160696 ]\n",
            "\n",
            "**************************************************\n",
            "\n",
            "Time Taken for 5-Fold CV : 0.15 minutes\n",
            "\n",
            "**************************************************\n",
            "\n",
            "Feature 0 Importance : 0.29507\n",
            "Feature 1 Importance : 0.08401\n",
            "Feature 2 Importance : 0.05802\n",
            "Feature 3 Importance : 0.07483\n",
            "Feature 4 Importance : 0.10047\n",
            "Feature 5 Importance : 0.13863\n",
            "Feature 6 Importance : 0.06602\n",
            "Feature 7 Importance : 0.18295\n",
            "\n",
            "**************************************************\n",
            "\n"
          ]
        },
        {
          "output_type": "display_data",
          "data": {
            "text/plain": [
              "<Figure size 432x288 with 1 Axes>"
            ],
            "image/png": "[encoded data removed]"
          },
          "metadata": {
            "needs_background": "light"
          }
        },
        {
          "output_type": "stream",
          "name": "stdout",
          "text": [
            "\n",
            "**************************************************\n",
            "\n"
          ]
        }
      ]
    },
    {
      "cell_type": "markdown",
      "source": [
        "### **Gradient Boosting Classifier**"
      ],
      "metadata": {
        "id": "vk0JQYidL4jN"
      }
    },
    {
      "cell_type": "code",
      "source": [
        "breaker()\n",
        "model = train(GradientBoostingClassifier(random_state=SEED), \"gbc\", X, y, LOG_FILE)\n",
        "get_feature_importance(model.feature_importances_, \"gbc\")"
      ],
      "metadata": {
        "id": "FIKbikfVL7bO",
        "colab": {
          "base_uri": "https://localhost:8080/",
          "height": 1000
        },
        "outputId": "fe0c8b5b-b322-427f-cb08-91f3ce27c221"
      },
      "execution_count": 11,
      "outputs": [
        {
          "output_type": "stream",
          "name": "stdout",
          "text": [
            "\n",
            "**************************************************\n",
            "\n",
            "Accuracy  : 0.94467\n",
            "ROC-AUC   : 0.94069\n",
            "Precision : [0.96673287 0.89959432]\n",
            "Recall    : [0.9516129  0.92976939]\n",
            "F-Score   : [0.9591133  0.91443299]\n",
            "\n",
            "**************************************************\n",
            "\n",
            "Accuracy  : 0.95300\n",
            "ROC-AUC   : 0.94844\n",
            "Precision : [0.96475996 0.93090211]\n",
            "Recall    : [0.96328404 0.93358999]\n",
            "F-Score   : [0.96402143 0.93224411]\n",
            "\n",
            "**************************************************\n",
            "\n",
            "Accuracy  : 0.94533\n",
            "ROC-AUC   : 0.93710\n",
            "Precision : [0.95864106 0.91744066]\n",
            "Recall    : [0.96053281 0.91366906]\n",
            "F-Score   : [0.959586   0.91555098]\n",
            "\n",
            "**************************************************\n",
            "\n",
            "Accuracy  : 0.95167\n",
            "ROC-AUC   : 0.94793\n",
            "Precision : [0.96890672 0.91749503]\n",
            "Recall    : [0.95880893 0.93705584]\n",
            "F-Score   : [0.96383138 0.92717228]\n",
            "\n",
            "**************************************************\n",
            "\n",
            "Accuracy  : 0.95500\n",
            "ROC-AUC   : 0.95316\n",
            "Precision : [0.97503744 0.91474423]\n",
            "Recall    : [0.95829244 0.94802495]\n",
            "F-Score   : [0.96659243 0.93108729]\n",
            "\n",
            "**************************************************\n",
            "\n",
            "Time Taken for 5-Fold CV : 0.21 minutes\n",
            "\n",
            "**************************************************\n",
            "\n",
            "Feature 0 Importance : 0.49073\n",
            "Feature 1 Importance : 0.06020\n",
            "Feature 2 Importance : 0.01341\n",
            "Feature 3 Importance : 0.02766\n",
            "Feature 4 Importance : 0.08809\n",
            "Feature 5 Importance : 0.17372\n",
            "Feature 6 Importance : 0.00959\n",
            "Feature 7 Importance : 0.13662\n",
            "\n",
            "**************************************************\n",
            "\n"
          ]
        },
        {
          "output_type": "display_data",
          "data": {
            "text/plain": [
              "<Figure size 432x288 with 1 Axes>"
            ],
            "image/png": "[encoded data removed]"
          },
          "metadata": {
            "needs_background": "light"
          }
        },
        {
          "output_type": "stream",
          "name": "stdout",
          "text": [
            "\n",
            "**************************************************\n",
            "\n"
          ]
        }
      ]
    },
    {
      "cell_type": "markdown",
      "source": [
        "### **Random Forest Classifier**"
      ],
      "metadata": {
        "id": "-dSbEV1yLs5m"
      }
    },
    {
      "cell_type": "code",
      "source": [
        "breaker()\n",
        "model = train(RandomForestClassifier(random_state=SEED), \"rfc\", X, y, LOG_FILE)\n",
        "get_feature_importance(model.feature_importances_, \"rfc\")"
      ],
      "metadata": {
        "id": "vSfgEpZMLwcR",
        "colab": {
          "base_uri": "https://localhost:8080/",
          "height": 1000
        },
        "outputId": "e8317ddb-1a15-4640-e5c6-8a5434b47972"
      },
      "execution_count": 12,
      "outputs": [
        {
          "output_type": "stream",
          "name": "stdout",
          "text": [
            "\n",
            "**************************************************\n",
            "\n",
            "Accuracy  : 0.93133\n",
            "ROC-AUC   : 0.92733\n",
            "Precision : [0.9612711  0.87018256]\n",
            "Recall    : [0.9379845  0.91666667]\n",
            "F-Score   : [0.94948504 0.89281998]\n",
            "\n",
            "**************************************************\n",
            "\n",
            "Accuracy  : 0.94033\n",
            "ROC-AUC   : 0.93624\n",
            "Precision : [0.96016343 0.90307102]\n",
            "Recall    : [0.94901565 0.92345437]\n",
            "F-Score   : [0.95455699 0.91314896]\n",
            "\n",
            "**************************************************\n",
            "\n",
            "Accuracy  : 0.93667\n",
            "ROC-AUC   : 0.92899\n",
            "Precision : [0.95667159 0.89473684]\n",
            "Recall    : [0.95012225 0.9078534 ]\n",
            "F-Score   : [0.95338567 0.9012474 ]\n",
            "\n",
            "**************************************************\n",
            "\n",
            "Accuracy  : 0.94100\n",
            "ROC-AUC   : 0.93689\n",
            "Precision : [0.96339017 0.89662028]\n",
            "Recall    : [0.94864198 0.92512821]\n",
            "F-Score   : [0.95595919 0.91065119]\n",
            "\n",
            "**************************************************\n",
            "\n",
            "Accuracy  : 0.94567\n",
            "ROC-AUC   : 0.94315\n",
            "Precision : [0.96954568 0.89769308]\n",
            "Recall    : [0.95009785 0.93619247]\n",
            "F-Score   : [0.95972325 0.91653866]\n",
            "\n",
            "**************************************************\n",
            "\n",
            "Time Taken for 5-Fold CV : 0.13 minutes\n",
            "\n",
            "**************************************************\n",
            "\n",
            "Feature 0 Importance : 0.29389\n",
            "Feature 1 Importance : 0.09971\n",
            "Feature 2 Importance : 0.04911\n",
            "Feature 3 Importance : 0.05457\n",
            "Feature 4 Importance : 0.11969\n",
            "Feature 5 Importance : 0.17504\n",
            "Feature 6 Importance : 0.04541\n",
            "Feature 7 Importance : 0.16257\n",
            "\n",
            "**************************************************\n",
            "\n"
          ]
        },
        {
          "output_type": "display_data",
          "data": {
            "text/plain": [
              "<Figure size 432x288 with 1 Axes>"
            ],
            "image/png": "[encoded data removed]"
          },
          "metadata": {
            "needs_background": "light"
          }
        },
        {
          "output_type": "stream",
          "name": "stdout",
          "text": [
            "\n",
            "**************************************************\n",
            "\n"
          ]
        }
      ]
    },
    {
      "cell_type": "markdown",
      "source": [
        "### **XGB Classifier**"
      ],
      "metadata": {
        "id": "IFF6a527L7xD"
      }
    },
    {
      "cell_type": "code",
      "source": [
        "breaker()\n",
        "model = train(XGBClassifier(random_state=SEED), \"xgbc\", X, y, LOG_FILE)\n",
        "get_feature_importance(model.feature_importances_, \"xgbc\")"
      ],
      "metadata": {
        "id": "ZktHuMnJL-en",
        "colab": {
          "base_uri": "https://localhost:8080/",
          "height": 1000
        },
        "outputId": "bd51f100-f409-4087-b719-2976201b34bc"
      },
      "execution_count": 13,
      "outputs": [
        {
          "output_type": "stream",
          "name": "stdout",
          "text": [
            "\n",
            "**************************************************\n",
            "\n",
            "Accuracy  : 0.94667\n",
            "ROC-AUC   : 0.94121\n",
            "Precision : [0.96425025 0.91075051]\n",
            "Recall    : [0.95665025 0.9257732 ]\n",
            "F-Score   : [0.96043521 0.91820041]\n",
            "\n",
            "**************************************************\n",
            "\n",
            "Accuracy  : 0.95000\n",
            "ROC-AUC   : 0.94521\n",
            "Precision : [0.96271706 0.92610365]\n",
            "Recall    : [0.96075433 0.92967245]\n",
            "F-Score   : [0.96173469 0.92788462]\n",
            "\n",
            "**************************************************\n",
            "\n",
            "Accuracy  : 0.94733\n",
            "ROC-AUC   : 0.93767\n",
            "Precision : [0.95568685 0.92982456]\n",
            "Recall    : [0.96615231 0.90918264]\n",
            "F-Score   : [0.96089109 0.91938776]\n",
            "\n",
            "**************************************************\n",
            "\n",
            "Accuracy  : 0.95133\n",
            "ROC-AUC   : 0.94561\n",
            "Precision : [0.96389168 0.92644135]\n",
            "Recall    : [0.96292585 0.92828685]\n",
            "F-Score   : [0.96340852 0.92736318]\n",
            "\n",
            "**************************************************\n",
            "\n",
            "Accuracy  : 0.95433\n",
            "ROC-AUC   : 0.95168\n",
            "Precision : [0.97304044 0.91675025]\n",
            "Recall    : [0.95915354 0.94421488]\n",
            "F-Score   : [0.96604709 0.9302799 ]\n",
            "\n",
            "**************************************************\n",
            "\n",
            "Time Taken for 5-Fold CV : 0.12 minutes\n",
            "\n",
            "**************************************************\n",
            "\n",
            "Feature 0 Importance : 0.38568\n",
            "Feature 1 Importance : 0.06908\n",
            "Feature 2 Importance : 0.05874\n",
            "Feature 3 Importance : 0.05735\n",
            "Feature 4 Importance : 0.10768\n",
            "Feature 5 Importance : 0.17070\n",
            "Feature 6 Importance : 0.02248\n",
            "Feature 7 Importance : 0.12830\n",
            "\n",
            "**************************************************\n",
            "\n"
          ]
        },
        {
          "output_type": "display_data",
          "data": {
            "text/plain": [
              "<Figure size 432x288 with 1 Axes>"
            ],
            "image/png": "[encoded data removed]"
          },
          "metadata": {
            "needs_background": "light"
          }
        },
        {
          "output_type": "stream",
          "name": "stdout",
          "text": [
            "\n",
            "**************************************************\n",
            "\n"
          ]
        }
      ]
    }
  ]
}